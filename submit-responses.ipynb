{
 "cells": [
  {
   "cell_type": "code",
   "execution_count": 123,
   "metadata": {},
   "outputs": [
    {
     "data": {
      "text/plain": [
       "True"
      ]
     },
     "execution_count": 123,
     "metadata": {},
     "output_type": "execute_result"
    }
   ],
   "source": [
    "from dotenv import load_dotenv\n",
    "\n",
    "load_dotenv()"
   ]
  },
  {
   "cell_type": "code",
   "execution_count": 124,
   "metadata": {},
   "outputs": [],
   "source": [
    "responses = [\n",
    "\"I organized weekly food drives to ensure that everyone in our neighborhood had enough to eat during the economic downturn.\",\n",
    "\n",
    "\"During the floods, I volunteered my boat for rescue operations to help evacuate families stranded in their homes.\",\n",
    "\n",
    "\"I set up a community-wide online platform for sharing resources and information to keep everyone connected and informed during the pandemic.\",\n",
    "\n",
    "\"As a teacher, I held free online tutoring sessions to assist students with their studies when schools were closed.\",\n",
    "\n",
    "\"I spearheaded a local campaign to support small businesses struggling to survive during the lockdowns, encouraging residents to buy local.\",\n",
    "\n",
    "\"By offering my garage as a collection point, I helped coordinate the distribution of emergency supplies to those affected by the wildfires.\",\n",
    "\n",
    "\"I used my skills as a nurse to provide first aid training to community members, preparing them for potential medical emergencies.\",\n",
    "\n",
    "\"During the power outage, I invited neighbors to charge their devices using my solar-powered generator, keeping them connected with their loved ones.\",\n",
    "\n",
    "\"I contributed by translating emergency alerts and health advisories into several languages, helping our diverse community stay safe and informed.\",\n",
    "\n",
    "\"I organized peaceful community dialogues to address tensions and promote understanding among different groups in our area.\",\n",
    "\n",
    "\"By volunteering at the local shelter, I helped provide a safe space and necessary resources for the homeless during the severe winter storms.\",\n",
    "\n",
    "\"I launched a mental health support group to help my community cope with the stress and anxiety brought on by continuous uncertainty.\",\n",
    "\n",
    "\"I facilitated pet rescue operations and temporary shelters for animals displaced by the hurricane, ensuring they were not forgotten.\",\n",
    "\n",
    "\"During the crisis, I donated part of my warehouse for use as a community center, where people could gather for support and to receive aid.\",\n",
    "\n",
    "\"I offered free legal advice to residents facing eviction, helping them navigate their rights and options in these challenging times.\",\n",
    "\n",
    "\"As a local journalist, I reported on the ground realities, bringing national attention to the needs of our community during the disaster.\",\n",
    "\n",
    "\"I helped elderly neighbors with grocery shopping and essential errands, especially when it was unsafe for them to go outside during the health crisis.\",\n",
    "\n",
    "\"By creating art murals around the city, I aimed to uplift spirits and foster a sense of hope and resilience among community members.\",\n",
    "\n",
    "\"I organized a series of skill-sharing workshops to empower residents with new abilities to tackle the economic challenges ahead.\",\n",
    "\n",
    "\"By coordinating with local authorities, I helped streamline aid processes, ensuring quicker and more efficient relief distribution.\",\n",
    "]"
   ]
  },
  {
   "cell_type": "code",
   "execution_count": 125,
   "metadata": {},
   "outputs": [
    {
     "name": "stdout",
     "output_type": "stream",
     "text": [
      "Top words in topic #0:\n",
      "['informed', 'sharing', 'helped', 'aid', 'support', 'members', 'provide', 'resources', 'local', 'community']\n",
      "Top words in topic #1:\n",
      "['community', 'local', 'aid', 'emergency', 'help', 'helped', 'distribution', 'ensuring', 'operations', 'rescue']\n",
      "Top words in topic #2:\n",
      "['emergency', 'health', 'sharing', 'informed', 'safe', 'community', 'economic', 'helping', 'residents', 'organized']\n",
      "Top words in topic #3:\n",
      "['helped', 'help', 'residents', 'health', 'crisis', 'online', 'free', 'support', 'community', 'aid']\n",
      "Top words in topic #4:\n",
      "['free', 'aid', 'residents', 'help', 'community', 'crisis', 'connected', 'helped', 'health', 'neighbors']\n"
     ]
    }
   ],
   "source": [
    "import yake\n",
    "from sklearn.decomposition import LatentDirichletAllocation\n",
    "from sklearn.feature_extraction.text import CountVectorizer\n",
    "\n",
    "def extract_keywords(text):\n",
    "    kw_extractor = yake.KeywordExtractor()\n",
    "    keywords = kw_extractor.extract_keywords(text)\n",
    "    return [kw[0] for kw in keywords if kw[1] < 0.1]  # Filter to get more relevant keywords\n",
    "\n",
    "\n",
    "def identify_topics(texts, num_topics=5):\n",
    "    vectorizer = CountVectorizer(max_df=0.95, min_df=2, stop_words='english')\n",
    "    doc_term_matrix = vectorizer.fit_transform(texts)\n",
    "    \n",
    "    lda = LatentDirichletAllocation(n_components=num_topics, random_state=0)\n",
    "    lda.fit(doc_term_matrix)\n",
    "    \n",
    "    for i, topic in enumerate(lda.components_):\n",
    "        print(f\"Top words in topic #{i}:\")\n",
    "        print([vectorizer.get_feature_names_out()[i] for i in topic.argsort()[-10:]])\n",
    "        \n",
    "\n",
    "identify_topics(responses)\n"
   ]
  },
  {
   "cell_type": "code",
   "execution_count": 127,
   "metadata": {},
   "outputs": [
    {
     "name": "stdout",
     "output_type": "stream",
     "text": [
      "Response: I organized weekly food drives to ensure that everyone in our neighborhood had enough to eat during the economic downturn.\n",
      "Extracted Objects: ['downturn', 'enough', 'neighborhood', 'drives']\n",
      "Extracted Groups/Communities: ['our neighborhood']\n",
      "\n",
      "Response: During the floods, I volunteered my boat for rescue operations to help evacuate families stranded in their homes.\n",
      "Extracted Objects: ['floods', 'homes', 'families', 'operations', 'boat']\n",
      "Extracted Groups/Communities: ['families']\n",
      "\n",
      "Response: I set up a community-wide online platform for sharing resources and information to keep everyone connected and informed during the pandemic.\n",
      "Extracted Objects: ['platform', 'resources', 'everyone', 'pandemic']\n",
      "Extracted Groups/Communities: ['a community-wide online platform']\n",
      "\n",
      "Response: As a teacher, I held free online tutoring sessions to assist students with their studies when schools were closed.\n",
      "Extracted Objects: ['studies', 'teacher', 'sessions', 'students']\n",
      "Extracted Groups/Communities: []\n",
      "\n",
      "Response: I spearheaded a local campaign to support small businesses struggling to survive during the lockdowns, encouraging residents to buy local.\n",
      "Extracted Objects: ['lockdowns', 'local', 'residents', 'campaign', 'businesses']\n",
      "Extracted Groups/Communities: []\n",
      "\n",
      "Response: By offering my garage as a collection point, I helped coordinate the distribution of emergency supplies to those affected by the wildfires.\n",
      "Extracted Objects: ['wildfires', 'those', 'supplies', 'point', 'garage', 'distribution']\n",
      "Extracted Groups/Communities: []\n",
      "\n",
      "Response: I used my skills as a nurse to provide first aid training to community members, preparing them for potential medical emergencies.\n",
      "Extracted Objects: ['nurse', 'them', 'training', 'skills', 'emergencies', 'members']\n",
      "Extracted Groups/Communities: ['community members']\n",
      "\n",
      "Response: During the power outage, I invited neighbors to charge their devices using my solar-powered generator, keeping them connected with their loved ones.\n",
      "Extracted Objects: ['outage', 'them', 'generator', 'neighbors', 'ones', 'devices']\n",
      "Extracted Groups/Communities: []\n",
      "\n",
      "Response: I contributed by translating emergency alerts and health advisories into several languages, helping our diverse community stay safe and informed.\n",
      "Extracted Objects: ['alerts', 'languages']\n",
      "Extracted Groups/Communities: ['our diverse community']\n",
      "\n",
      "Response: I organized peaceful community dialogues to address tensions and promote understanding among different groups in our area.\n",
      "Extracted Objects: ['tensions', 'area', 'dialogues', 'groups', 'understanding']\n",
      "Extracted Groups/Communities: ['peaceful community dialogues']\n",
      "\n",
      "Response: By volunteering at the local shelter, I helped provide a safe space and necessary resources for the homeless during the severe winter storms.\n",
      "Extracted Objects: ['storms', 'space', 'shelter', 'homeless']\n",
      "Extracted Groups/Communities: []\n",
      "\n",
      "Response: I launched a mental health support group to help my community cope with the stress and anxiety brought on by continuous uncertainty.\n",
      "Extracted Objects: ['group', 'uncertainty', 'stress']\n",
      "Extracted Groups/Communities: ['my community']\n",
      "\n",
      "Response: I facilitated pet rescue operations and temporary shelters for animals displaced by the hurricane, ensuring they were not forgotten.\n",
      "Extracted Objects: ['animals', 'hurricane', 'operations']\n",
      "Extracted Groups/Communities: []\n",
      "\n",
      "Response: During the crisis, I donated part of my warehouse for use as a community center, where people could gather for support and to receive aid.\n",
      "Extracted Objects: ['crisis', 'center', 'support', 'warehouse', 'part', 'use', 'aid']\n",
      "Extracted Groups/Communities: ['a community center']\n",
      "\n",
      "Response: I offered free legal advice to residents facing eviction, helping them navigate their rights and options in these challenging times.\n",
      "Extracted Objects: ['times', 'residents', 'advice', 'rights', 'eviction']\n",
      "Extracted Groups/Communities: []\n",
      "\n",
      "Response: As a local journalist, I reported on the ground realities, bringing national attention to the needs of our community during the disaster.\n",
      "Extracted Objects: ['journalist', 'disaster', 'realities', 'attention', 'community', 'needs']\n",
      "Extracted Groups/Communities: ['our community']\n",
      "\n",
      "Response: I helped elderly neighbors with grocery shopping and essential errands, especially when it was unsafe for them to go outside during the health crisis.\n",
      "Extracted Objects: ['shopping', 'crisis', 'neighbors']\n",
      "Extracted Groups/Communities: []\n",
      "\n",
      "Response: By creating art murals around the city, I aimed to uplift spirits and foster a sense of hope and resilience among community members.\n",
      "Extracted Objects: ['city', 'sense', 'spirits', 'members', 'murals', 'hope']\n",
      "Extracted Groups/Communities: ['community members']\n",
      "\n",
      "Response: I organized a series of skill-sharing workshops to empower residents with new abilities to tackle the economic challenges ahead.\n",
      "Extracted Objects: ['challenges', 'residents', 'workshops', 'abilities', 'series']\n",
      "Extracted Groups/Communities: []\n",
      "\n",
      "Response: By coordinating with local authorities, I helped streamline aid processes, ensuring quicker and more efficient relief distribution.\n",
      "Extracted Objects: ['processes', 'distribution', 'authorities']\n",
      "Extracted Groups/Communities: []\n",
      "\n"
     ]
    }
   ],
   "source": [
    "import spacy\n",
    "nlp = spacy.load(\"en_core_web_sm\")  # Load SpaCy English model\n",
    "\n",
    "def extract_entities(responses):\n",
    "    for response in responses:\n",
    "        doc = nlp(response)\n",
    "        objects = []\n",
    "        communities = []\n",
    "        for token in doc:\n",
    "            # Extracting Objects based on dependency parsing\n",
    "            if token.dep_ in ['dobj', 'attr', 'pobj']:  # direct objects, attributes, object of preposition\n",
    "                objects.append(token.text)\n",
    "            # Extracting Groups/Communities if mentioned explicitly\n",
    "            if token.ent_type_ in ['NORP', 'ORG', 'GPE']:  # nationalities, organizations, geopolitical entities\n",
    "                communities.append(token.text)\n",
    "            # Additional heuristic: Check for noun chunks that might be groups\n",
    "            for chunk in doc.noun_chunks:\n",
    "                if 'community' in chunk.text or 'neighborhood' in chunk.text or 'families' in chunk.text:\n",
    "                    communities.append(chunk.text)\n",
    "\n",
    "        print(f\"Response: {response}\")\n",
    "        print(\"Extracted Objects:\", list(set(objects)))\n",
    "        print(\"Extracted Groups/Communities:\", list(set(communities)))\n",
    "        print()\n",
    "\n",
    "extract_entities(responses)"
   ]
  },
  {
   "cell_type": "code",
   "execution_count": 114,
   "metadata": {},
   "outputs": [
    {
     "data": {
      "text/plain": [
       "<neo4j._sync.work.result.Result at 0x153ece310>"
      ]
     },
     "execution_count": 114,
     "metadata": {},
     "output_type": "execute_result"
    }
   ],
   "source": [
    "import os\n",
    "from neo4j import GraphDatabase, Driver, Transaction\n",
    "\n",
    "# Create a driver instance\n",
    "driver = GraphDatabase.driver(\n",
    "    os.getenv(\"NEO4J_URI\"),\n",
    "    auth=(os.getenv(\"NEO4J_USERNAME\"), os.getenv(\"NEO4J_PASSWORD\"))\n",
    ")\n",
    "# Optionally, check if you want to verify connectivity at the start\n",
    "driver.verify_connectivity()\n",
    "\n",
    "# Clear the database\n",
    "driver.session().run(\"MATCH (n) DETACH DELETE n\")"
   ]
  },
  {
   "cell_type": "code",
   "execution_count": 115,
   "metadata": {},
   "outputs": [],
   "source": [
    "# Function to create nodes in the database\n",
    "def create_response_nodes(driver:Driver, labels, responses):\n",
    "    # Create a session using the driver\n",
    "    with driver.session() as session:\n",
    "        for i in set(labels):\n",
    "            session.run(\"MERGE (:Cluster {id: $id, description: $description})\", id=i, description=f\"Cluster {i} Description\")\n",
    "\n",
    "        # Create responses and link to clusters\n",
    "        for response, label in zip(responses, labels):\n",
    "            session.run(\n",
    "                \"\"\"\n",
    "                CREATE (r:Response {content: $content})\n",
    "                WITH r\n",
    "                MATCH (c:Cluster {id: $clusterId})\n",
    "                CREATE (r)-[:BELONGS_TO]->(c)\n",
    "                \"\"\",\n",
    "                content=response, clusterId=label\n",
    "            )\n",
    "\n",
    "# Define a transaction function to execute a Cypher query\n",
    "def create_node(tx:Transaction, response, label):\n",
    "    cypher_query = \"\"\"\n",
    "    CREATE (n:Response {content: $content, cluster: $cluster})\n",
    "    \"\"\"\n",
    "    tx.run(cypher_query, content=response, cluster=label)\n",
    "\n",
    "# Call the function to create nodes\n",
    "create_response_nodes(driver, labels, responses)"
   ]
  },
  {
   "cell_type": "code",
   "execution_count": 116,
   "metadata": {},
   "outputs": [
    {
     "data": {
      "text/plain": [
       "{0: ['I find strength by remembering the stories of our ancestors’ perseverance through tough times.',\n",
       "  'Sharing stories of survival and heroism inspires me to be resilient.',\n",
       "  'Keeping a daily routine and setting small, achievable goals help maintain normalcy and resilience.'],\n",
       " 1: ['Resilience is built through unity and the collective spirit of our community.',\n",
       "  'Resilience comes from the hope and vision of a peaceful future for our nation.',\n",
       "  'Organizing community support activities and helping those in need gives me strength.',\n",
       "  'Through art and creative expression, we can channel our emotions and rebuild our spirit.',\n",
       "  'Personal resilience is built by facing fears directly and learning to overcome them.',\n",
       "  'Resilience means adapting to change while holding onto the values that define us.',\n",
       "  'Building strong networks of communication and support are essential for resilience.',\n",
       "  'I practice resilience by focusing on solutions rather than dwelling on problems.',\n",
       "  'Volunteering in community defense initiatives has strengthened my resolve and resilience.',\n",
       "  'Faith and spirituality play a crucial role in my personal resilience.',\n",
       "  'Continuing to celebrate life’s moments, big and small, reinforces the resilience of our community.'],\n",
       " 2: ['By staying informed and engaged, I feel empowered to face challenges.',\n",
       "  'Resilience is about recovering from setbacks and being ready to face the next challenge.'],\n",
       " 3: ['Supporting each other in small everyday actions helps build a resilient community.',\n",
       "  'Educating our youth about our history and struggles helps foster resilience.'],\n",
       " 4: ['I build resilience by maintaining cultural traditions that remind us of our identity and strength.',\n",
       "  'Physical wellness and mental health are key to maintaining resilience under stress.']}"
      ]
     },
     "execution_count": 116,
     "metadata": {},
     "output_type": "execute_result"
    }
   ],
   "source": [
    "res = driver.execute_query(\"\"\"\n",
    "MATCH (n:Response)-[b:BELONGS_TO]->(c:Cluster)\n",
    "RETURN n,b,c\n",
    "\"\"\")\n",
    "\n",
    "clusters = {}\n",
    "for record in res.records:\n",
    "    cluster = record['c']['id']\n",
    "    content = record['n']['content']\n",
    "    if cluster not in clusters:\n",
    "        clusters[cluster] = []\n",
    "    clusters[cluster].append(content)\n",
    "    \n",
    "clusters"
   ]
  },
  {
   "cell_type": "code",
   "execution_count": 117,
   "metadata": {},
   "outputs": [
    {
     "name": "stdout",
     "output_type": "stream",
     "text": [
      "Cluster 0 key terms: ['stories' 'tough' 'perseverance' 'ancestors' 'daily']\n",
      "Cluster 1 key terms: ['resilience' 'community' 'spirit' 'support' 'built']\n",
      "Cluster 2 key terms: ['face' 'staying' 'setbacks' 'resilience' 'recovering']\n",
      "Cluster 3 key terms: ['helps' 'youth' 'supporting' 'struggles' 'small']\n",
      "Cluster 4 key terms: ['resilience' 'maintaining' 'wellness' 'traditions' 'stress']\n"
     ]
    }
   ],
   "source": [
    "from sklearn.feature_extraction.text import CountVectorizer\n",
    "import numpy as np\n",
    "def extract_key_terms(data):\n",
    "    vectorizer = CountVectorizer(stop_words='english')\n",
    "    for cluster, texts in data.items():\n",
    "        X = vectorizer.fit_transform(texts)\n",
    "        terms = vectorizer.get_feature_names_out()\n",
    "        frequencies = X.toarray().sum(axis=0)\n",
    "        sorted_indices = np.argsort(frequencies)[::-1]\n",
    "        print(f\"Cluster {cluster} key terms: {terms[sorted_indices][:5]}\")  # Top 5 terms\n",
    "\n",
    "extract_key_terms(clusters)"
   ]
  }
 ],
 "metadata": {
  "kernelspec": {
   "display_name": "Python 3",
   "language": "python",
   "name": "python3"
  },
  "language_info": {
   "codemirror_mode": {
    "name": "ipython",
    "version": 3
   },
   "file_extension": ".py",
   "mimetype": "text/x-python",
   "name": "python",
   "nbconvert_exporter": "python",
   "pygments_lexer": "ipython3",
   "version": "3.11.9"
  }
 },
 "nbformat": 4,
 "nbformat_minor": 2
}
