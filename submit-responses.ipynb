{
 "cells": [
  {
   "cell_type": "code",
   "execution_count": 111,
   "metadata": {},
   "outputs": [
    {
     "data": {
      "text/plain": [
       "True"
      ]
     },
     "execution_count": 111,
     "metadata": {},
     "output_type": "execute_result"
    }
   ],
   "source": [
    "from dotenv import load_dotenv\n",
    "\n",
    "load_dotenv()"
   ]
  },
  {
   "cell_type": "code",
   "execution_count": 112,
   "metadata": {},
   "outputs": [],
   "source": [
    "responses = [\n",
    "  \"Resilience is built through unity and the collective spirit of our community.\",\n",
    "  \"I find strength by remembering the stories of our ancestors’ perseverance through tough times.\",\n",
    "  \"Supporting each other in small everyday actions helps build a resilient community.\",\n",
    "  \"By staying informed and engaged, I feel empowered to face challenges.\",\n",
    "  \"Resilience comes from the hope and vision of a peaceful future for our nation.\",\n",
    "  \"Educating our youth about our history and struggles helps foster resilience.\",\n",
    "  \"I build resilience by maintaining cultural traditions that remind us of our identity and strength.\",\n",
    "  \"Organizing community support activities and helping those in need gives me strength.\",\n",
    "  \"Through art and creative expression, we can channel our emotions and rebuild our spirit.\",\n",
    "  \"Personal resilience is built by facing fears directly and learning to overcome them.\",\n",
    "  \"Sharing stories of survival and heroism inspires me to be resilient.\",\n",
    "  \"Resilience means adapting to change while holding onto the values that define us.\",\n",
    "  \"Physical wellness and mental health are key to maintaining resilience under stress.\",\n",
    "  \"Building strong networks of communication and support are essential for resilience.\",\n",
    "  \"I practice resilience by focusing on solutions rather than dwelling on problems.\",\n",
    "  \"Volunteering in community defense initiatives has strengthened my resolve and resilience.\",\n",
    "  \"Keeping a daily routine and setting small, achievable goals help maintain normalcy and resilience.\",\n",
    "  \"Resilience is about recovering from setbacks and being ready to face the next challenge.\",\n",
    "  \"Faith and spirituality play a crucial role in my personal resilience.\",\n",
    "  \"Continuing to celebrate life’s moments, big and small, reinforces the resilience of our community.\",\n",
    "]"
   ]
  },
  {
   "cell_type": "code",
   "execution_count": 119,
   "metadata": {},
   "outputs": [
    {
     "name": "stdout",
     "output_type": "stream",
     "text": [
      "Actor: Resilience, \t\t action: built, \t\t target: through\n",
      "Actor: I, \t\t action: find, \t\t target: by\n",
      "Actor: None, \t\t action: helps, \t\t target: None\n",
      "Actor: I, \t\t action: feel, \t\t target: By\n",
      "Actor: Resilience, \t\t action: comes, \t\t target: from\n",
      "Actor: None, \t\t action: helps, \t\t target: resilience\n",
      "Actor: I, \t\t action: build, \t\t target: by\n",
      "Actor: None, \t\t action: gives, \t\t target: strength\n",
      "Actor: we, \t\t action: channel, \t\t target: emotions\n",
      "Actor: resilience, \t\t action: built, \t\t target: by\n",
      "Actor: None, \t\t action: Sharing, \t\t target: stories\n",
      "Actor: Resilience, \t\t action: means, \t\t target: None\n",
      "Actor: None, \t\t action: None, \t\t target: None\n",
      "Actor: None, \t\t action: None, \t\t target: None\n",
      "Actor: I, \t\t action: practice, \t\t target: by\n",
      "Actor: Volunteering, \t\t action: strengthened, \t\t target: resolve\n",
      "Actor: None, \t\t action: help, \t\t target: None\n",
      "Actor: None, \t\t action: None, \t\t target: None\n",
      "Actor: Faith, \t\t action: play, \t\t target: in\n",
      "Actor: None, \t\t action: reinforces, \t\t target: resilience\n"
     ]
    }
   ],
   "source": [
    "import spacy\n",
    "\n",
    "# Load the pre-trained English model\n",
    "nlp = spacy.load('en_core_web_sm')\n",
    "\n",
    "# Function to perform NER\n",
    "def extract_entities(sentences):\n",
    "    for sentence in sentences:\n",
    "        # Process the sentence using spaCy\n",
    "        doc = nlp(sentence)\n",
    "\n",
    "        # Function to find the actor, action, and target\n",
    "        def extract_actor_action_target(doc):\n",
    "            # Initialize empty placeholders\n",
    "            actor, action, target = None, None, None\n",
    "            \n",
    "            # Iterate through the words in the sentence\n",
    "            for token in doc:\n",
    "                # Find the main verb (action)\n",
    "                if token.dep_ == \"ROOT\" and token.pos_ == \"VERB\":\n",
    "                    action = token.text\n",
    "                    # Find the subject of the verb (actor)\n",
    "                    for child in token.children:\n",
    "                        if child.dep_ in [\"nsubj\", \"nsubjpass\"]:  # nsubjpass for passive subject\n",
    "                            actor = child.text\n",
    "                        # Find the object of the verb (target)\n",
    "                        if child.dep_ in [\"dobj\", \"attr\", \"prep\", \"pobj\"]:\n",
    "                            target = child.text\n",
    "            return actor, action, target\n",
    "\n",
    "        # Extract and print actor, action, target\n",
    "        actor, action, target = extract_actor_action_target(doc)\n",
    "        print(f\"Action: {action}\")\n",
    "\n",
    "# Extract entities from the provided sentences\n",
    "extract_entities(responses)\n"
   ]
  },
  {
   "cell_type": "code",
   "execution_count": 114,
   "metadata": {},
   "outputs": [
    {
     "data": {
      "text/plain": [
       "<neo4j._sync.work.result.Result at 0x153ece310>"
      ]
     },
     "execution_count": 114,
     "metadata": {},
     "output_type": "execute_result"
    }
   ],
   "source": [
    "import os\n",
    "from neo4j import GraphDatabase, Driver, Transaction\n",
    "\n",
    "# Create a driver instance\n",
    "driver = GraphDatabase.driver(\n",
    "    os.getenv(\"NEO4J_URI\"),\n",
    "    auth=(os.getenv(\"NEO4J_USERNAME\"), os.getenv(\"NEO4J_PASSWORD\"))\n",
    ")\n",
    "# Optionally, check if you want to verify connectivity at the start\n",
    "driver.verify_connectivity()\n",
    "\n",
    "# Clear the database\n",
    "driver.session().run(\"MATCH (n) DETACH DELETE n\")"
   ]
  },
  {
   "cell_type": "code",
   "execution_count": 115,
   "metadata": {},
   "outputs": [],
   "source": [
    "# Function to create nodes in the database\n",
    "def create_response_nodes(driver:Driver, labels, responses):\n",
    "    # Create a session using the driver\n",
    "    with driver.session() as session:\n",
    "        for i in set(labels):\n",
    "            session.run(\"MERGE (:Cluster {id: $id, description: $description})\", id=i, description=f\"Cluster {i} Description\")\n",
    "\n",
    "        # Create responses and link to clusters\n",
    "        for response, label in zip(responses, labels):\n",
    "            session.run(\n",
    "                \"\"\"\n",
    "                CREATE (r:Response {content: $content})\n",
    "                WITH r\n",
    "                MATCH (c:Cluster {id: $clusterId})\n",
    "                CREATE (r)-[:BELONGS_TO]->(c)\n",
    "                \"\"\",\n",
    "                content=response, clusterId=label\n",
    "            )\n",
    "\n",
    "# Define a transaction function to execute a Cypher query\n",
    "def create_node(tx:Transaction, response, label):\n",
    "    cypher_query = \"\"\"\n",
    "    CREATE (n:Response {content: $content, cluster: $cluster})\n",
    "    \"\"\"\n",
    "    tx.run(cypher_query, content=response, cluster=label)\n",
    "\n",
    "# Call the function to create nodes\n",
    "create_response_nodes(driver, labels, responses)"
   ]
  },
  {
   "cell_type": "code",
   "execution_count": 116,
   "metadata": {},
   "outputs": [
    {
     "data": {
      "text/plain": [
       "{0: ['I find strength by remembering the stories of our ancestors’ perseverance through tough times.',\n",
       "  'Sharing stories of survival and heroism inspires me to be resilient.',\n",
       "  'Keeping a daily routine and setting small, achievable goals help maintain normalcy and resilience.'],\n",
       " 1: ['Resilience is built through unity and the collective spirit of our community.',\n",
       "  'Resilience comes from the hope and vision of a peaceful future for our nation.',\n",
       "  'Organizing community support activities and helping those in need gives me strength.',\n",
       "  'Through art and creative expression, we can channel our emotions and rebuild our spirit.',\n",
       "  'Personal resilience is built by facing fears directly and learning to overcome them.',\n",
       "  'Resilience means adapting to change while holding onto the values that define us.',\n",
       "  'Building strong networks of communication and support are essential for resilience.',\n",
       "  'I practice resilience by focusing on solutions rather than dwelling on problems.',\n",
       "  'Volunteering in community defense initiatives has strengthened my resolve and resilience.',\n",
       "  'Faith and spirituality play a crucial role in my personal resilience.',\n",
       "  'Continuing to celebrate life’s moments, big and small, reinforces the resilience of our community.'],\n",
       " 2: ['By staying informed and engaged, I feel empowered to face challenges.',\n",
       "  'Resilience is about recovering from setbacks and being ready to face the next challenge.'],\n",
       " 3: ['Supporting each other in small everyday actions helps build a resilient community.',\n",
       "  'Educating our youth about our history and struggles helps foster resilience.'],\n",
       " 4: ['I build resilience by maintaining cultural traditions that remind us of our identity and strength.',\n",
       "  'Physical wellness and mental health are key to maintaining resilience under stress.']}"
      ]
     },
     "execution_count": 116,
     "metadata": {},
     "output_type": "execute_result"
    }
   ],
   "source": [
    "res = driver.execute_query(\"\"\"\n",
    "MATCH (n:Response)-[b:BELONGS_TO]->(c:Cluster)\n",
    "RETURN n,b,c\n",
    "\"\"\")\n",
    "\n",
    "clusters = {}\n",
    "for record in res.records:\n",
    "    cluster = record['c']['id']\n",
    "    content = record['n']['content']\n",
    "    if cluster not in clusters:\n",
    "        clusters[cluster] = []\n",
    "    clusters[cluster].append(content)\n",
    "    \n",
    "clusters"
   ]
  },
  {
   "cell_type": "code",
   "execution_count": 117,
   "metadata": {},
   "outputs": [
    {
     "name": "stdout",
     "output_type": "stream",
     "text": [
      "Cluster 0 key terms: ['stories' 'tough' 'perseverance' 'ancestors' 'daily']\n",
      "Cluster 1 key terms: ['resilience' 'community' 'spirit' 'support' 'built']\n",
      "Cluster 2 key terms: ['face' 'staying' 'setbacks' 'resilience' 'recovering']\n",
      "Cluster 3 key terms: ['helps' 'youth' 'supporting' 'struggles' 'small']\n",
      "Cluster 4 key terms: ['resilience' 'maintaining' 'wellness' 'traditions' 'stress']\n"
     ]
    }
   ],
   "source": [
    "from sklearn.feature_extraction.text import CountVectorizer\n",
    "import numpy as np\n",
    "def extract_key_terms(data):\n",
    "    vectorizer = CountVectorizer(stop_words='english')\n",
    "    for cluster, texts in data.items():\n",
    "        X = vectorizer.fit_transform(texts)\n",
    "        terms = vectorizer.get_feature_names_out()\n",
    "        frequencies = X.toarray().sum(axis=0)\n",
    "        sorted_indices = np.argsort(frequencies)[::-1]\n",
    "        print(f\"Cluster {cluster} key terms: {terms[sorted_indices][:5]}\")  # Top 5 terms\n",
    "\n",
    "extract_key_terms(clusters)"
   ]
  }
 ],
 "metadata": {
  "kernelspec": {
   "display_name": "Python 3",
   "language": "python",
   "name": "python3"
  },
  "language_info": {
   "codemirror_mode": {
    "name": "ipython",
    "version": 3
   },
   "file_extension": ".py",
   "mimetype": "text/x-python",
   "name": "python",
   "nbconvert_exporter": "python",
   "pygments_lexer": "ipython3",
   "version": "3.11.9"
  }
 },
 "nbformat": 4,
 "nbformat_minor": 2
}
