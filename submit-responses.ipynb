{
 "cells": [
  {
   "cell_type": "code",
   "execution_count": 24,
   "metadata": {},
   "outputs": [
    {
     "data": {
      "text/plain": [
       "True"
      ]
     },
     "execution_count": 24,
     "metadata": {},
     "output_type": "execute_result"
    }
   ],
   "source": [
    "from dotenv import load_dotenv\n",
    "\n",
    "load_dotenv()"
   ]
  },
  {
   "cell_type": "code",
   "execution_count": 25,
   "metadata": {},
   "outputs": [],
   "source": [
    "responses = [{\n",
    "  \"user\": \"Kate\",\n",
    "  \"answer\": \"During the massive floods last year, I worked with the local rescue team to provide emergency medical services. As a trained paramedic, I was responsible for administering first aid and ensuring the safety of evacuated residents.\", \n",
    "  \"ukraine\":\"I've regularly donated to charities that deliver medical supplies and food to Ukrainian refugees. Moving forward, I'd like to volunteer directly with these organizations to help distribute supplies on the ground.\",\n",
    "},{\n",
    "  \"user\": \"Alex\",\n",
    "  \"ukraine\":\"As a blogger, I use my platform to share accurate information about the situation in Ukraine, combat misinformation, and promote fundraisers. I hope to collaborate with Ukrainian journalists to amplify their voices further.\",\n",
    "  \"answer\": \"I collaborated with a group of local chefs to set up a community kitchen during the pandemic. My role was organizing the logistics, ensuring we had enough ingredients each day to prepare meals for hundreds of unemployed workers.\"\n",
    "},{\n",
    "  \"user\": \"David\",\n",
    "  \"ukraine\":\"I haven't had the chance to help yet, but I am planning to host a community art auction where local artists can donate their work, and proceeds will go directly to Ukrainian humanitarian aid.\",\n",
    "  \"answer\": \"As the head of the neighborhood watch during the recent wildfires, I coordinated with the fire department and organized local volunteers to create firebreaks and assist in evacuation efforts.\"\n",
    "},{\n",
    "  \"user\": \"Emily\",\n",
    "  \"ukraine\":\"I joined a network that writes letters to soldiers and civilians in Ukraine to boost their morale. I also want to learn more about providing psychological first aid to better support those experiencing trauma.\",\n",
    "  \"answer\": \"When our community was struck by a severe storm, I worked with the local church to convert their hall into a temporary shelter. I was in charge of bedding, providing comfort, and managing supplies for displaced families.\"\n",
    "},{\n",
    "  \"user\": \"James\",\n",
    "  \"ukraine\":\"I have donated to several NGOs that are providing on-the-ground support in Ukraine. In the future, I want to use my skills as a teacher to help educate displaced Ukrainian children online.\",\n",
    "  \"answer\": \"I helped organize a tech drive to collect old laptops and smartphones for students when schools moved online. As a tech specialist, my role was to refurbish the devices to ensure they were ready for academic use.\"\n",
    "},{\n",
    "  \"user\": \"Priya\",\n",
    "  \"ukraine\":\"I've been part of a tech team developing secure communication tools for Ukrainian activists. Next, I'd like to help create educational apps to assist Ukrainian children continuing their studies during disruptions.\",\n",
    "  \"answer\": \"During the economic downturn, I formed a partnership with local businesses to fundraise for those hardest hit. My role was to manage the crowdfunding campaigns and communicate with donors about where their contributions were going.\"\n",
    "},{\n",
    "  \"user\": \"Tom\",\n",
    "  \"ukraine\":\"My friends and I have been crafting blankets and warm clothing to send to Ukraine. I'm looking into how I can go there to help rebuild homes and community centers once it is safe to do so.\",\n",
    "  \"answer\": \"I collaborated with the city council and other environmental activists to organize community clean-up events following the oil spill. My role involved planning the events, recruiting volunteers, and educating participants on safety procedures.\"\n",
    "},{\n",
    "  \"user\": \"Zara\",\n",
    "  \"ukraine\":\"I coordinated a local food drive to collect and send non-perishable items to Ukraine. I am now learning Ukrainian so I can offer more personalized support to Ukrainian refugees arriving in our community.\",\n",
    "  \"answer\": \"After noticing the mental health struggles among elderly residents during isolation, I helped establish a virtual visitation program. As the program coordinator, I trained volunteers on how to use video call software and matched them with seniors in need of company.\"\n",
    "},{\n",
    "  \"user\": \"Chris\",\n",
    "  \"ukraine\":\"I started a petition to encourage our government to provide more aid and support to Ukraine. I am planning to get more involved in advocacy at a political level to ensure sustained support for Ukraine.\",\n",
    "  \"answer\": \"When our local hospital was overwhelmed, I worked with a team of volunteers to provide non-medical support to healthcare staff. I took on the role of scheduling shifts and ensuring that all staff members got timely meals and rest breaks.\"\n",
    "},{\n",
    "  \"user\": \"Will\",\n",
    "  \"ukraine\": \"I organized a series of benefit concerts in my city to raise awareness and funds for Ukraine. We managed to gather a significant amount to support children affected by the war, and I plan to organize more such events.\",\n",
    "  \"answer\": \"I led a team that set up an information dissemination service that helped non-English speaking residents understand the changing health regulations during the pandemic. My role was overseeing the translation and distribution of information in multiple languages.\"\n",
    "}]"
   ]
  },
  {
   "cell_type": "code",
   "execution_count": 26,
   "metadata": {},
   "outputs": [],
   "source": [
    "import spacy\n",
    "nlp = spacy.load(\"en_core_web_sm\")\n",
    "def extract_entities(responses):\n",
    "    for response in responses:\n",
    "        doc = nlp(response)\n",
    "        objects = []\n",
    "        communities = []\n",
    "        for token in doc:\n",
    "            # Extracting Objects based on dependency parsing\n",
    "            if token.dep_ in ['dobj', 'attr', 'pobj']:  # direct objects, attributes, object of preposition\n",
    "                objects.append(token.text)\n",
    "\n",
    "\n",
    "        print(f\"Response: {response}\")\n",
    "        print(\"Extracted Objects:\", list(set(objects)))\n",
    "        print(\"Extracted Groups/Communities:\", list(set(communities)))\n",
    "        print()\n",
    "def extract_entities(responses):\n",
    "    data = []\n",
    "    for response in responses:\n",
    "        doc = nlp(response.get(\"answer\", \"\") + \" \" + response.get(\"ukraine\", \"\"))\n",
    "        actions = set()\n",
    "        roles = set()\n",
    "        resources = set()\n",
    "        communities = set()\n",
    "        \n",
    "        for token in doc:\n",
    "            # Action extraction\n",
    "            if token.pos_ == \"VERB\":\n",
    "                actions.add(token.lemma_)\n",
    "            # Role and resource extraction (simplified for demonstration)\n",
    "            if token.pos_ == \"NOUN\":\n",
    "                if \"coordinator\" in token.text:\n",
    "                    roles.add(token.text)\n",
    "                else:\n",
    "                    resources.add(token.text)\n",
    "\n",
    "            # Extracting Groups/Communities if mentioned explicitly\n",
    "            if token.ent_type_ in ['NORP', 'ORG', 'GPE']:  # nationalities, organizations, geopolitical entities\n",
    "                communities.add(token.text)\n",
    "            # Additional heuristic: Check for noun chunks that might be groups\n",
    "            for chunk in doc.noun_chunks:\n",
    "                if 'community' in chunk.text or 'neighborhood' in chunk.text or 'families' in chunk.text:\n",
    "                    communities.add(chunk.text)\n",
    "        \n",
    "        data.append({\n",
    "            \"user\": response.get(\"user\", \"Anonymous\"),\n",
    "            \"actions\": list(actions),\n",
    "            \"roles\": list(roles),\n",
    "            \"resources\": list(resources),\n",
    "            \"communities\": list(communities)\n",
    "        })\n",
    "    return data\n",
    "\n",
    "# Extract data\n",
    "extracted_data = extract_entities(responses)"
   ]
  },
  {
   "cell_type": "code",
   "execution_count": 27,
   "metadata": {},
   "outputs": [
    {
     "data": {
      "text/plain": [
       "<neo4j._sync.work.result.Result at 0x156359010>"
      ]
     },
     "execution_count": 27,
     "metadata": {},
     "output_type": "execute_result"
    }
   ],
   "source": [
    "import os\n",
    "from neo4j import GraphDatabase, Driver, Transaction\n",
    "\n",
    "# Create a driver instance\n",
    "driver = GraphDatabase.driver(\n",
    "    os.getenv(\"NEO4J_URI\"),\n",
    "    auth=(os.getenv(\"NEO4J_USERNAME\"), os.getenv(\"NEO4J_PASSWORD\"))\n",
    ")\n",
    "# Optionally, check if you want to verify connectivity at the start\n",
    "driver.verify_connectivity()\n",
    "\n",
    "# Clear the database\n",
    "driver.session().run(\"MATCH (n) DETACH DELETE n\")"
   ]
  },
  {
   "cell_type": "code",
   "execution_count": 28,
   "metadata": {},
   "outputs": [],
   "source": [
    "# Function to insert data into Neo4j\n",
    "def insert_data_into_neo4j(driver, extracted_data):\n",
    "    with driver.session() as session:\n",
    "        for entry in extracted_data:\n",
    "            session.write_transaction(create_nodes_and_relationships, entry)\n",
    "\n",
    "# Transaction function to create nodes and relationships\n",
    "def create_nodes_and_relationships(tx, entry):\n",
    "    # Create or find the user node\n",
    "    tx.run(\"\"\"\n",
    "        MERGE (u:User {name: $name})\n",
    "        SET u.answer = $answer, u.ukraine_help = $ukraine_help\n",
    "        \"\"\", name=entry['user'], answer=entry['answer'], ukraine_help=entry['ukraine'])\n",
    "\n",
    "    # Create action nodes and relationships\n",
    "    for action in entry['actions']:\n",
    "        tx.run(\"\"\"\n",
    "            MATCH (u:User {name: $name})\n",
    "            MERGE (a:Action {name: $action})\n",
    "            MERGE (u)-[:PERFORMS]->(a)\n",
    "            \"\"\", name=entry['user'], action=action)\n",
    "\n",
    "    # Create role nodes and relationships\n",
    "    for role in entry['roles']:\n",
    "        tx.run(\"\"\"\n",
    "            MATCH (u:User {name: $name})\n",
    "            MERGE (r:Role {name: $role})\n",
    "            MERGE (u)-[:ASSUMES]->(r)\n",
    "            \"\"\", name=entry['user'], role=role)\n",
    "\n",
    "    # Create resource nodes and relationships\n",
    "    for resource in entry['resources']:\n",
    "        tx.run(\"\"\"\n",
    "            MATCH (u:User {name: $name})\n",
    "            MERGE (res:Resource {name: $resource})\n",
    "            MERGE (u)-[:UTILIZES]->(res)\n",
    "            \"\"\", name=entry['user'], resource=resource)\n",
    "\n",
    "    # Create community nodes and relationships\n",
    "    for community in entry['communities']:\n",
    "        tx.run(\"\"\"\n",
    "            MATCH (u:User {name: $name})\n",
    "            MERGE (c:Community {name: $community})\n",
    "            MERGE (u)-[:BELONGS_TO]->(c)\n",
    "            \"\"\", name=entry['user'], community=community)"
   ]
  },
  {
   "cell_type": "code",
   "execution_count": 29,
   "metadata": {},
   "outputs": [
    {
     "name": "stderr",
     "output_type": "stream",
     "text": [
      "/var/folders/yq/0zz796hs77l_70crv1b3x6z80000gn/T/ipykernel_79698/1101957894.py:5: DeprecationWarning: write_transaction has been renamed to execute_write\n",
      "  session.write_transaction(create_nodes_and_relationships, entry)\n"
     ]
    }
   ],
   "source": [
    "# Insert data into Neo4j\n",
    "insert_data_into_neo4j(driver, extracted_data)\n",
    "\n",
    "# Close the Neo4j driver\n",
    "driver.close()"
   ]
  }
 ],
 "metadata": {
  "kernelspec": {
   "display_name": "Python 3",
   "language": "python",
   "name": "python3"
  },
  "language_info": {
   "codemirror_mode": {
    "name": "ipython",
    "version": 3
   },
   "file_extension": ".py",
   "mimetype": "text/x-python",
   "name": "python",
   "nbconvert_exporter": "python",
   "pygments_lexer": "ipython3",
   "version": "3.11.9"
  }
 },
 "nbformat": 4,
 "nbformat_minor": 2
}
