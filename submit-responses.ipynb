{
 "cells": [
  {
   "cell_type": "code",
   "execution_count": 45,
   "metadata": {},
   "outputs": [
    {
     "data": {
      "text/plain": [
       "True"
      ]
     },
     "execution_count": 45,
     "metadata": {},
     "output_type": "execute_result"
    }
   ],
   "source": [
    "from dotenv import load_dotenv\n",
    "\n",
    "load_dotenv()"
   ]
  },
  {
   "cell_type": "code",
   "execution_count": 46,
   "metadata": {},
   "outputs": [],
   "source": [
    "responses = [\n",
    "  \"Resilience is built through unity and the collective spirit of our community.\",\n",
    "  \"I find strength by remembering the stories of our ancestors’ perseverance through tough times.\",\n",
    "  \"Supporting each other in small everyday actions helps build a resilient community.\",\n",
    "  \"By staying informed and engaged, I feel empowered to face challenges.\",\n",
    "  \"Resilience comes from the hope and vision of a peaceful future for our nation.\",\n",
    "  \"Educating our youth about our history and struggles helps foster resilience.\",\n",
    "  \"I build resilience by maintaining cultural traditions that remind us of our identity and strength.\",\n",
    "  \"Organizing community support activities and helping those in need gives me strength.\",\n",
    "  \"Through art and creative expression, we can channel our emotions and rebuild our spirit.\",\n",
    "  \"Personal resilience is built by facing fears directly and learning to overcome them.\",\n",
    "  \"Sharing stories of survival and heroism inspires me to be resilient.\",\n",
    "  \"Resilience means adapting to change while holding onto the values that define us.\",\n",
    "  \"Physical wellness and mental health are key to maintaining resilience under stress.\",\n",
    "  \"Building strong networks of communication and support are essential for resilience.\",\n",
    "  \"I practice resilience by focusing on solutions rather than dwelling on problems.\",\n",
    "  \"Volunteering in community defense initiatives has strengthened my resolve and resilience.\",\n",
    "  \"Keeping a daily routine and setting small, achievable goals help maintain normalcy and resilience.\",\n",
    "  \"Resilience is about recovering from setbacks and being ready to face the next challenge.\",\n",
    "  \"Faith and spirituality play a crucial role in my personal resilience.\",\n",
    "  \"Continuing to celebrate life’s moments, big and small, reinforces the resilience of our community.\",\n",
    "]"
   ]
  },
  {
   "cell_type": "code",
   "execution_count": 47,
   "metadata": {},
   "outputs": [
    {
     "data": {
      "text/plain": [
       "array([0, 1, 1, 4, 4, 4, 3, 0, 0, 2, 1, 4, 3, 4, 4, 0, 4, 4, 2, 0],\n",
       "      dtype=int32)"
      ]
     },
     "execution_count": 47,
     "metadata": {},
     "output_type": "execute_result"
    }
   ],
   "source": [
    "from sklearn.feature_extraction.text import TfidfVectorizer\n",
    "from sklearn.cluster import KMeans\n",
    "\n",
    "\n",
    "# Convert text data to TF-IDF features\n",
    "vectorizer = TfidfVectorizer(stop_words='english')\n",
    "X = vectorizer.fit_transform(responses)\n",
    "\n",
    "# Clustering\n",
    "kmeans = KMeans(n_clusters=5)\n",
    "kmeans.fit(X)\n",
    "labels = kmeans.labels_\n",
    "\n",
    "# Now, labels can be used to define relationships in Neo4j\n",
    "labels\n"
   ]
  },
  {
   "cell_type": "code",
   "execution_count": 48,
   "metadata": {},
   "outputs": [
    {
     "data": {
      "text/plain": [
       "<neo4j._sync.work.result.Result at 0x14e208090>"
      ]
     },
     "execution_count": 48,
     "metadata": {},
     "output_type": "execute_result"
    }
   ],
   "source": [
    "import os\n",
    "from neo4j import GraphDatabase, Driver, Transaction\n",
    "\n",
    "# Create a driver instance\n",
    "driver = GraphDatabase.driver(\n",
    "    os.getenv(\"NEO4J_URI\"),\n",
    "    auth=(os.getenv(\"NEO4J_USERNAME\"), os.getenv(\"NEO4J_PASSWORD\"))\n",
    ")\n",
    "# Optionally, check if you want to verify connectivity at the start\n",
    "driver.verify_connectivity()\n",
    "\n",
    "# Clear the database\n",
    "driver.session().run(\"MATCH (n) DETACH DELETE n\")"
   ]
  },
  {
   "cell_type": "code",
   "execution_count": 49,
   "metadata": {},
   "outputs": [],
   "source": [
    "# Function to create nodes in the database\n",
    "def create_response_nodes(driver:Driver, labels, responses):\n",
    "    # Create a session using the driver\n",
    "    with driver.session() as session:\n",
    "        for i in set(labels):\n",
    "            session.run(\"MERGE (:Cluster {id: $id, description: $description})\", id=i, description=f\"Cluster {i} Description\")\n",
    "\n",
    "        # Create responses and link to clusters\n",
    "        for response, label in zip(responses, labels):\n",
    "            session.run(\n",
    "                \"\"\"\n",
    "                CREATE (r:Response {content: $content})\n",
    "                WITH r\n",
    "                MATCH (c:Cluster {id: $clusterId})\n",
    "                CREATE (r)-[:BELONGS_TO]->(c)\n",
    "                \"\"\",\n",
    "                content=response, clusterId=label\n",
    "            )\n",
    "\n",
    "# Define a transaction function to execute a Cypher query\n",
    "def create_node(tx:Transaction, response, label):\n",
    "    cypher_query = \"\"\"\n",
    "    CREATE (n:Response {content: $content, cluster: $cluster})\n",
    "    \"\"\"\n",
    "    tx.run(cypher_query, content=response, cluster=label)\n",
    "\n",
    "# Call the function to create nodes\n",
    "create_response_nodes(driver, labels, responses)"
   ]
  },
  {
   "cell_type": "code",
   "execution_count": 63,
   "metadata": {},
   "outputs": [
    {
     "name": "stdout",
     "output_type": "stream",
     "text": [
      "<Node element_id='4:bddd43fd-6dd0-4438-a337-0f607146615f:5' labels=frozenset({'Response'}) properties={'content': 'Resilience is built through unity and the collective spirit of our community.'}>\n"
     ]
    },
    {
     "data": {
      "text/plain": [
       "{0: ['Resilience is built through unity and the collective spirit of our community.',\n",
       "  'Organizing community support activities and helping those in need gives me strength.',\n",
       "  'Through art and creative expression, we can channel our emotions and rebuild our spirit.',\n",
       "  'Volunteering in community defense initiatives has strengthened my resolve and resilience.',\n",
       "  'Continuing to celebrate life’s moments, big and small, reinforces the resilience of our community.'],\n",
       " 1: ['I find strength by remembering the stories of our ancestors’ perseverance through tough times.',\n",
       "  'Supporting each other in small everyday actions helps build a resilient community.',\n",
       "  'Sharing stories of survival and heroism inspires me to be resilient.'],\n",
       " 2: ['Personal resilience is built by facing fears directly and learning to overcome them.',\n",
       "  'Faith and spirituality play a crucial role in my personal resilience.'],\n",
       " 3: ['I build resilience by maintaining cultural traditions that remind us of our identity and strength.',\n",
       "  'Physical wellness and mental health are key to maintaining resilience under stress.'],\n",
       " 4: ['By staying informed and engaged, I feel empowered to face challenges.',\n",
       "  'Resilience comes from the hope and vision of a peaceful future for our nation.',\n",
       "  'Educating our youth about our history and struggles helps foster resilience.',\n",
       "  'Resilience means adapting to change while holding onto the values that define us.',\n",
       "  'Building strong networks of communication and support are essential for resilience.',\n",
       "  'I practice resilience by focusing on solutions rather than dwelling on problems.',\n",
       "  'Keeping a daily routine and setting small, achievable goals help maintain normalcy and resilience.',\n",
       "  'Resilience is about recovering from setbacks and being ready to face the next challenge.']}"
      ]
     },
     "execution_count": 63,
     "metadata": {},
     "output_type": "execute_result"
    }
   ],
   "source": [
    "res = driver.execute_query(\"\"\"\n",
    "MATCH (n:Response)-[b:BELONGS_TO]->(c:Cluster)\n",
    "RETURN n,b,c\n",
    "\"\"\")\n",
    "\n",
    "clusters = {}\n",
    "for record in res.records:\n",
    "    cluster = record['c']['id']\n",
    "    content = record['n']['content']\n",
    "    if cluster not in clusters:\n",
    "        clusters[cluster] = []\n",
    "    clusters[cluster].append(content)\n",
    "    \n",
    "clusters"
   ]
  },
  {
   "cell_type": "code",
   "execution_count": 64,
   "metadata": {},
   "outputs": [
    {
     "name": "stdout",
     "output_type": "stream",
     "text": [
      "Cluster 0 key terms: ['community' 'resilience' 'spirit' 'volunteering' 'gives']\n",
      "Cluster 1 key terms: ['stories' 'resilient' 'tough' 'inspires' 'ancestors']\n",
      "Cluster 2 key terms: ['resilience' 'personal' 'spirituality' 'role' 'play']\n",
      "Cluster 3 key terms: ['resilience' 'maintaining' 'wellness' 'traditions' 'stress']\n",
      "Cluster 4 key terms: ['resilience' 'face' 'youth' 'empowered' 'helps']\n"
     ]
    }
   ],
   "source": [
    "from sklearn.feature_extraction.text import CountVectorizer\n",
    "import numpy as np\n",
    "def extract_key_terms(data):\n",
    "    vectorizer = CountVectorizer(stop_words='english')\n",
    "    for cluster, texts in data.items():\n",
    "        X = vectorizer.fit_transform(texts)\n",
    "        terms = vectorizer.get_feature_names_out()\n",
    "        frequencies = X.toarray().sum(axis=0)\n",
    "        sorted_indices = np.argsort(frequencies)[::-1]\n",
    "        print(f\"Cluster {cluster} key terms: {terms[sorted_indices][:5]}\")  # Top 5 terms\n",
    "\n",
    "extract_key_terms(clusters)"
   ]
  }
 ],
 "metadata": {
  "kernelspec": {
   "display_name": "Python 3",
   "language": "python",
   "name": "python3"
  },
  "language_info": {
   "codemirror_mode": {
    "name": "ipython",
    "version": 3
   },
   "file_extension": ".py",
   "mimetype": "text/x-python",
   "name": "python",
   "nbconvert_exporter": "python",
   "pygments_lexer": "ipython3",
   "version": "3.11.9"
  }
 },
 "nbformat": 4,
 "nbformat_minor": 2
}
